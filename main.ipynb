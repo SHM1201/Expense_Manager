{
 "cells": [
  {
   "attachments": {},
   "cell_type": "markdown",
   "metadata": {},
   "source": [
    "# Expense Manager"
   ]
  },
  {
   "cell_type": "code",
   "execution_count": null,
   "metadata": {},
   "outputs": [],
   "source": []
  },
  {
   "attachments": {},
   "cell_type": "markdown",
   "metadata": {},
   "source": [
    "### IDEA (Features)"
   ]
  },
  {
   "attachments": {},
   "cell_type": "markdown",
   "metadata": {},
   "source": [
    "<li>Net worth</li>\n",
    "<br/>\n",
    "<li>Income</li>\n",
    "<ol>\n",
    "    <li>Datetime</li>\n",
    "    <li>Periodical or OneTimer</li>\n",
    "    <ol>\n",
    "    <li>Duration</li>\n",
    "    </ol>\n",
    "    <li>Amount</li>\n",
    "    <li>Description</li>\n",
    "</ol>\n",
    "\n",
    "<li>Expense</li>\n",
    "<ol>\n",
    "    <li>Datetime</li>\n",
    "    <li>Periodical or OneTimer</li>\n",
    "    <ol>\n",
    "    <li>Duration</li>\n",
    "    </ol>\n",
    "    <li>Amount</li>\n",
    "    <li>Description</li>\n",
    "</ol>"
   ]
  },
  {
   "cell_type": "code",
   "execution_count": null,
   "metadata": {},
   "outputs": [],
   "source": [
    "from inspect import signature\n",
    "from datetime import datetime"
   ]
  },
  {
   "attachments": {},
   "cell_type": "markdown",
   "metadata": {},
   "source": [
    "### Functions"
   ]
  },
  {
   "cell_type": "code",
   "execution_count": null,
   "metadata": {},
   "outputs": [],
   "source": [
    "class Action:\n",
    "    def __init__(s) -> None:\n",
    "        s.amount = 0\n",
    "        s.dateTime = None\n",
    "        s.periodicity = False\n",
    "        s.duration = 0\n",
    "        s.description = \"\"\n",
    "\n",
    "    def addExpense(): pass\n",
    "    def updateExpense(): pass\n",
    "    def deleteExpense(): pass\n",
    "    def readExpense(): pass"
   ]
  },
  {
   "attachments": {},
   "cell_type": "markdown",
   "metadata": {},
   "source": [
    "#### 1. Income"
   ]
  },
  {
   "cell_type": "code",
   "execution_count": 13,
   "metadata": {},
   "outputs": [],
   "source": [
    "class Income:\n",
    "    def __init__(s, amount, dateTime, periodicity = False, duration = 0, description = \"\") -> None:\n",
    "        s.update(amount, dateTime, periodicity, duration, description)\n",
    "\n",
    "    def update(s, amount, dateTime, periodicity = False, duration = 0, description = \"\") -> None:\n",
    "        s.amount = amount\n",
    "        s.dateTime = dateTime\n",
    "        s.periodicity = periodicity\n",
    "        s.duration = duration\n",
    "        s.description = description\n"
   ]
  },
  {
   "attachments": {},
   "cell_type": "markdown",
   "metadata": {},
   "source": [
    "#### 2. Expense"
   ]
  },
  {
   "cell_type": "code",
   "execution_count": 15,
   "metadata": {},
   "outputs": [],
   "source": [
    "class Expense:\n",
    "    def __init__(s, amount, dateTime, periodicity = False, duration = 0, description = \"\") -> None:\n",
    "        s.update(amount, dateTime, periodicity, duration, description)\n",
    "\n",
    "    def update(s, amount, dateTime, periodicity = False, duration = 0, description = \"\") -> None:\n",
    "        s.amount = amount\n",
    "        s.dateTime = dateTime\n",
    "        s.periodicity = periodicity\n",
    "        s.duration = duration\n",
    "        s.description = description"
   ]
  },
  {
   "cell_type": "code",
   "execution_count": 49,
   "metadata": {},
   "outputs": [],
   "source": [
    "class fin_manager:\n",
    "    def __init__(s) -> None:\n",
    "        s.expense_id = 0\n",
    "        s.income_id = 0\n",
    "        s.netWorth : float = 0\n",
    "        s.expenses_dict : dict[int, Expense]\n",
    "        s.incomes_dict : dict[int, Income]\n",
    "\n",
    "\n",
    "    def getNetWorth(s):\n",
    "        print(\"gnw called\")\n",
    "        return s.netWorth\n",
    "    \n",
    "    def updateNetWorth(s, amount):\n",
    "        if s.netWorth + amount < 0:\n",
    "            return \"Insuffient Balance\"\n",
    "        \n",
    "        s.netWorth += amount\n",
    "        return \"Updated Successfully\"\n",
    "    \n",
    "\n",
    "    \n",
    "\n",
    "    def addExpense(s, amount, dateTime, periodicity = False, duration = 0, description = \"\"):\n",
    "        newExpense = Expense(amount, dateTime, periodicity, duration, description)\n",
    "        s.expenses_dict[s.expense_id] = newExpense\n",
    "        s.expense_id += 1\n",
    "        s.updateNetWorth((-1)*amount)\n",
    "\n",
    "        \n",
    "    def updateExpense(s, id, amount, dateTime, periodicity = False, duration = 0, description = \"\"):\n",
    "        s.expenses_dict[id].update(amount, dateTime, periodicity, duration, description)\n",
    "        \n",
    "    def deleteExpense(s, id):\n",
    "        del s.expenses_dict[id]\n",
    "    \n",
    "    def readExpenses(s):\n",
    "        return s.expenses_dict.items()\n",
    "\n",
    "\n",
    "\n",
    "    \n",
    "    def addIncome(s, amount, dateTime, periodicity = False, duration = 0, description = \"\"):\n",
    "        newIncome = Income(amount, dateTime, periodicity, duration, description)\n",
    "        s.incomes_dict[s.income_id] = newIncome\n",
    "        s.income_id += 1\n",
    "        s.updateNetWorth(amount)\n",
    "    \n",
    "    def updateIncome(s, id, amount, dateTime, periodicity = False, duration = 0, description = \"\"):\n",
    "        s.incomes_dict[id].update(amount, dateTime, periodicity, duration, description)        \n",
    "\n",
    "    def deleteIncome(s, id):\n",
    "        del s.incomes_dict[id]\n",
    "    \n",
    "    def readIncomes(s):\n",
    "        return s.incomes_dict.items()"
   ]
  },
  {
   "cell_type": "code",
   "execution_count": 54,
   "metadata": {},
   "outputs": [],
   "source": [
    "def main():\n",
    "    manager = fin_manager()\n",
    "    options = [\"View NetWorth\",\"View Incomes\",\"Add Income \",\"Update Income\",\"Delete Income\",\"View Expenses\",\"Add Expense \",\"Update Expense\",\"Delete Expense\",\"Stop\"]\n",
    "    functions = [manager.getNetWorth, manager.updateNetWorth, manager.addExpense, manager.updateExpense, manager.deleteExpense, manager.readExpenses, manager.addIncome, manager.updateIncome, manager.deleteIncome, manager.readIncomes]\n",
    "\n",
    "    while True:\n",
    "        print(\"MENU\")\n",
    "        for i, option in enumerate(options, 1):\n",
    "            print(f\"{i}. {option}\")\n",
    "        \n",
    "        choice = int(input(\"Choice : \"))-1\n",
    "        if choice < 0 or choice > 8:\n",
    "            break\n",
    "\n",
    "        params = list(signature(functions[choice]).parameters.keys())\n",
    "        arguments = [input(f\"Enter {param}\") for param in params]\n",
    "\n",
    "        result = functions[choice](*arguments)\n",
    "\n",
    "        if result is not None:\n",
    "            print(result)\n",
    "\n",
    "        \n",
    "    "
   ]
  },
  {
   "cell_type": "code",
   "execution_count": 55,
   "metadata": {},
   "outputs": [
    {
     "name": "stdout",
     "output_type": "stream",
     "text": [
      "MENU\n",
      "1. View NetWorth\n",
      "2. View Incomes\n",
      "3. Add Income \n",
      "4. Update Income\n",
      "5. Delete Income\n",
      "6. View Expenses\n",
      "7. Add Expense \n",
      "8. Update Expense\n",
      "9. Delete Expense\n",
      "10. Stop\n",
      "gnw called\n",
      "0\n",
      "MENU\n",
      "1. View NetWorth\n",
      "2. View Incomes\n",
      "3. Add Income \n",
      "4. Update Income\n",
      "5. Delete Income\n",
      "6. View Expenses\n",
      "7. Add Expense \n",
      "8. Update Expense\n",
      "9. Delete Expense\n",
      "10. Stop\n",
      "gnw called\n",
      "0\n",
      "MENU\n",
      "1. View NetWorth\n",
      "2. View Incomes\n",
      "3. Add Income \n",
      "4. Update Income\n",
      "5. Delete Income\n",
      "6. View Expenses\n",
      "7. Add Expense \n",
      "8. Update Expense\n",
      "9. Delete Expense\n",
      "10. Stop\n"
     ]
    }
   ],
   "source": [
    "main()"
   ]
  },
  {
   "cell_type": "code",
   "execution_count": 2,
   "metadata": {},
   "outputs": [
    {
     "name": "stdout",
     "output_type": "stream",
     "text": [
      "Collecting rotate-screen\n",
      "  Downloading rotate_screen-0.1.5-py3-none-any.whl (6.3 kB)\n",
      "Requirement already satisfied: pywin32 in c:\\users\\1201m\\appdata\\roaming\\python\\python311\\site-packages (from rotate-screen) (306)\n",
      "Installing collected packages: rotate-screen\n",
      "Successfully installed rotate-screen-0.1.5\n",
      "Note: you may need to restart the kernel to use updated packages.\n"
     ]
    }
   ],
   "source": [
    "pip install rotate-screen"
   ]
  },
  {
   "cell_type": "code",
   "execution_count": 1,
   "metadata": {},
   "outputs": [],
   "source": [
    "import rotatescreen, time"
   ]
  },
  {
   "cell_type": "code",
   "execution_count": 2,
   "metadata": {},
   "outputs": [],
   "source": [
    "screen = rotatescreen.get_primary_display()"
   ]
  },
  {
   "cell_type": "code",
   "execution_count": 4,
   "metadata": {},
   "outputs": [],
   "source": [
    "i = 0\n",
    "while True:\n",
    "    time.sleep(0.3)\n",
    "    i += 90\n",
    "    screen.rotate_to(i%360)"
   ]
  },
  {
   "cell_type": "code",
   "execution_count": null,
   "metadata": {},
   "outputs": [],
   "source": []
  }
 ],
 "metadata": {
  "kernelspec": {
   "display_name": "Python 3 (ipykernel)",
   "language": "python",
   "name": "python3"
  },
  "language_info": {
   "codemirror_mode": {
    "name": "ipython",
    "version": 3
   },
   "file_extension": ".py",
   "mimetype": "text/x-python",
   "name": "python",
   "nbconvert_exporter": "python",
   "pygments_lexer": "ipython3",
   "version": "3.12.0"
  }
 },
 "nbformat": 4,
 "nbformat_minor": 4
}
