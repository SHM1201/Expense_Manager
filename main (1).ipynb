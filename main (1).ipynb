{
 "cells": [
  {
   "attachments": {},
   "cell_type": "markdown",
   "metadata": {
    "id": "vpdhD8ChcsTR"
   },
   "source": [
    "# Expense Manager"
   ]
  },
  {
   "attachments": {},
   "cell_type": "markdown",
   "metadata": {
    "id": "eB3HKZC1csTj"
   },
   "source": [
    "### IDEA (Features)"
   ]
  },
  {
   "attachments": {},
   "cell_type": "markdown",
   "metadata": {
    "id": "PA6CtsMGcsTl"
   },
   "source": [
    "<li>Net worth</li>\n",
    "<br/>\n",
    "<li>Income</li>\n",
    "<ol>\n",
    "    <li>Datetime</li>\n",
    "    <li>Periodical or OneTimer</li>\n",
    "    <ol>\n",
    "    <li>Duration</li>\n",
    "    </ol>\n",
    "    <li>Amount</li>\n",
    "    <li>Description</li>\n",
    "</ol>\n",
    "\n",
    "<li>Expense</li>\n",
    "<ol>\n",
    "    <li>Datetime</li>\n",
    "    <li>Periodical or OneTimer</li>\n",
    "    <ol>\n",
    "    <li>Duration</li>\n",
    "    </ol>\n",
    "    <li>Amount</li>\n",
    "    <li>Description</li>\n",
    "</ol>"
   ]
  },
  {
   "cell_type": "code",
   "execution_count": 2,
   "metadata": {
    "id": "nYfV2ieZcsTp"
   },
   "outputs": [],
   "source": [
    "import inspect\n",
    "import datetime\n",
    "import functools"
   ]
  },
  {
   "attachments": {},
   "cell_type": "markdown",
   "metadata": {
    "id": "NVZs7DgWcsTu"
   },
   "source": [
    "### Functions"
   ]
  },
  {
   "cell_type": "code",
   "execution_count": 33,
   "metadata": {
    "id": "MMB-AWvZcsUC"
   },
   "outputs": [],
   "source": [
    "def decorator(func):\n",
    "    @functools.wraps(func)\n",
    "    def wrapper(*args):\n",
    "        print(\"decorator called\")\n",
    "        print(args)\n",
    "        if not args :\n",
    "            print(\"Args None\")\n",
    "            return func()        \n",
    "        sig = inspect.signature(func)\n",
    "        sigParams = list(sig.parameters.values())\n",
    "        print(sigParams)\n",
    "        # anno_to_cnvtr = {}\n",
    "        newArgs = list(args)\n",
    "        # print(newArgs)\n",
    "\n",
    "        for i in range(len(args)):\n",
    "            anno = sigParams[i].annotation\n",
    "            print(f\"{anno=}\")\n",
    "            if anno == inspect._empty:\n",
    "                # print(\"cdn success\")\n",
    "                continue\n",
    "            newArgs[i] = anno(newArgs[i])\n",
    "            print(f\"{sigParams[i]=}, {anno=}, {newArgs[i]=}, {type(newArgs[i])=}\")\n",
    "            \n",
    "        \n",
    "        return func(*tuple(newArgs))\n",
    "    \n",
    "    return wrapper"
   ]
  },
  {
   "cell_type": "code",
   "execution_count": 4,
   "metadata": {
    "id": "Qh_Vg8YicsTw"
   },
   "outputs": [],
   "source": [
    "class Action:\n",
    "    def __init__(s) -> None:\n",
    "        s.amount = 0\n",
    "        s.dateTime = None\n",
    "        s.periodicity = False\n",
    "        s.duration = 0\n",
    "        s.description = \"\"\n",
    "\n",
    "    def addExpense(): pass\n",
    "    def updateExpense(): pass\n",
    "    def deleteExpense(): pass\n",
    "    def readExpense(): pass"
   ]
  },
  {
   "attachments": {},
   "cell_type": "markdown",
   "metadata": {
    "id": "XfkE6VmYcsTy"
   },
   "source": [
    "#### 1. Income"
   ]
  },
  {
   "cell_type": "code",
   "execution_count": 5,
   "metadata": {
    "id": "x4Daa8Q_csT1"
   },
   "outputs": [],
   "source": [
    "class Income:\n",
    "    def __init__(s, amount : int, dateTime : datetime.datetime, periodicity : bool = False, duration : int = 0, description : str = \"\") -> None:\n",
    "        s.update(amount, dateTime, periodicity, duration, description)\n",
    "\n",
    "    def update(s, amount : int, dateTime : datetime.datetime, periodicity : bool = False, duration : int = 0, description : str = \"\") -> None:\n",
    "        s.amount = amount\n",
    "        s.dateTime = dateTime\n",
    "        s.periodicity = periodicity\n",
    "        s.duration = duration\n",
    "        s.description = description\n"
   ]
  },
  {
   "attachments": {},
   "cell_type": "markdown",
   "metadata": {
    "id": "JRoaDkV-csT3"
   },
   "source": [
    "#### 2. Expense"
   ]
  },
  {
   "cell_type": "code",
   "execution_count": 6,
   "metadata": {
    "id": "P646Htk9csT5"
   },
   "outputs": [],
   "source": [
    "class Expense:\n",
    "    def __init__(s, amount : int, dateTime : datetime.datetime, periodicity : bool = False, duration : int = 0, description : str = \"\") -> None:\n",
    "        s.update(amount, dateTime, periodicity, duration, description)\n",
    "\n",
    "    def update(s, amount : int, dateTime : datetime.datetime, periodicity : bool = False, duration : int = 0, description : str = \"\") -> None:\n",
    "        s.amount = amount\n",
    "        s.dateTime = dateTime\n",
    "        s.periodicity = periodicity\n",
    "        s.duration = duration\n",
    "        s.description = description"
   ]
  },
  {
   "cell_type": "code",
   "execution_count": null,
   "metadata": {
    "id": "I-h1ObaRcsT7"
   },
   "outputs": [],
   "source": [
    "class fin_manager:\n",
    "    def __init__(s) -> None:\n",
    "        s.expense_id : int = 0\n",
    "        s.income_id : int= 0\n",
    "        s.netWorth : float = 0\n",
    "        s.expenses_dict : dict[int, Expense] = { }\n",
    "        s.incomes_dict : dict[int, Income] = { }\n",
    "\n",
    "\n",
    "    def getNetWorth(s):\n",
    "        print(\"gnw called\")\n",
    "        return s.netWorth\n",
    "\n",
    "    def updateNetWorth(s, amount : int):\n",
    "        print(\"unw called\")\n",
    "        if s.netWorth + amount < 0:\n",
    "            return \"Insuffient Balance\"\n",
    "\n",
    "        s.netWorth += amount\n",
    "        return \"Updated Successfully\"\n",
    "\n",
    "\n",
    "\n",
    "\n",
    "    def addExpense(s, amount : int, dateTime : datetime.datetime, periodicity : bool = False, duration : int = 0, description : str = \"\"):\n",
    "        print(\"addExp called\")\n",
    "        newExpense = Expense(amount, dateTime, periodicity, duration, description)\n",
    "        s.expenses_dict[s.expense_id] = newExpense\n",
    "        s.expense_id += 1\n",
    "        s.updateNetWorth((-1)*amount)\n",
    "\n",
    "\n",
    "    def updateExpense(s, id : int, amount : int, dateTime : datetime.datetime, periodicity : bool= False, duration : int= 0, description : str = \"\"):\n",
    "        s.expenses_dict[id].update(amount, dateTime, periodicity, duration, description)\n",
    "\n",
    "    def deleteExpense(s, id : int):\n",
    "        del s.expenses_dict[id]\n",
    "\n",
    "    def readExpenses(s):\n",
    "        return s.expenses_dict.items()\n",
    "\n",
    "\n",
    "\n",
    "\n",
    "    def addIncome(s, amount : int, dateTime : datetime.datetime, periodicity : bool = False, duration : int = 0, description : str = \"\"):\n",
    "        newIncome = Income(amount, dateTime, periodicity, duration, description)\n",
    "        s.incomes_dict[s.income_id] = newIncome\n",
    "        s.income_id += 1\n",
    "        s.updateNetWorth(amount)\n",
    "\n",
    "    def updateIncome(s, id : int, amount : int, dateTime : datetime.datetime, periodicity : bool = False, duration : int = 0, description : str = \"\"):\n",
    "        s.incomes_dict[id].update(amount, dateTime, periodicity, duration, description)\n",
    "\n",
    "    def deleteIncome(s, id : int):\n",
    "        del s.incomes_dict[id]\n",
    "\n",
    "    def readIncomes(s):\n",
    "        return s.incomes_dict.items()"
   ]
  },
  {
   "cell_type": "code",
   "execution_count": 37,
   "metadata": {
    "id": "cnAj6FSMcsT8"
   },
   "outputs": [],
   "source": [
    "def main():\n",
    "    manager = fin_manager()\n",
    "    options = [\"View NetWorth\", \"Update Networth\",\"View Incomes\",\"Add Income \",\"Update Income\",\"Delete Income\",\"View Expenses\",\"Add Expense\",\"Update Expense\",\"Delete Expense\",\"Stop\"]\n",
    "    functions = [manager.getNetWorth, manager.updateNetWorth, manager.readIncomes, manager.addIncome, manager.updateIncome, manager.deleteIncome, manager.readExpenses, manager.addExpense, manager.updateExpense, manager.deleteExpense]\n",
    "\n",
    "    print(\"MENU\")\n",
    "    \n",
    "    for i, option in enumerate(options, 1):\n",
    "        print(f\"{i}. {option}\")\n",
    "    while True:\n",
    "\n",
    "        choice = int(input(\"Choice : \"))-1\n",
    "        if choice < 0 or choice > 8:\n",
    "            print(\"Invalid Choice\")\n",
    "            break\n",
    "\n",
    "        print(f\"Your Choice : {choice}\")\n",
    "\n",
    "        functions[choice] = decorator(functions[choice])\n",
    "        params = list(inspect.signature(functions[choice]).parameters.keys())\n",
    "        \n",
    "        if params:\n",
    "            arguments = [input(f\"Enter {param}\") for param in params]\n",
    "            result = functions[choice](*arguments)\n",
    "        else:\n",
    "            result = functions[choice]()\n",
    "             \n",
    "\n",
    "\n",
    "        if result is not None:\n",
    "            print(result)\n",
    "\n",
    "\n"
   ]
  },
  {
   "cell_type": "code",
   "execution_count": 39,
   "metadata": {
    "colab": {
     "base_uri": "https://localhost:8080/",
     "height": 867
    },
    "id": "qkVfM5zecsT-",
    "outputId": "d6f3649b-8326-4d8c-f6a8-e8040cae958d"
   },
   "outputs": [
    {
     "name": "stdout",
     "output_type": "stream",
     "text": [
      "MENU\n",
      "1. View NetWorth\n",
      "2. Update Networth\n",
      "3. View Incomes\n",
      "4. Add Income \n",
      "5. Update Income\n",
      "6. Delete Income\n",
      "7. View Expenses\n",
      "8. Add Expense\n",
      "9. Update Expense\n",
      "10. Delete Expense\n",
      "11. Stop\n",
      "Your Choice : 0\n",
      "decorator called\n",
      "()\n",
      "Args None\n",
      "gnw called\n",
      "0\n",
      "Your Choice : 0\n",
      "decorator called\n",
      "()\n",
      "Args None\n",
      "decorator called\n",
      "()\n",
      "Args None\n",
      "gnw called\n",
      "0\n",
      "Your Choice : 1\n",
      "decorator called\n",
      "('12',)\n",
      "[<Parameter \"amount: int\">]\n",
      "anno=<class 'int'>\n",
      "sigParams[i]=<Parameter \"amount: int\">, anno=<class 'int'>, newArgs[i]=12, type(newArgs[i])=<class 'int'>\n",
      "unw called\n",
      "Updated Successfully\n",
      "Your Choice : 0\n",
      "decorator called\n",
      "()\n",
      "Args None\n",
      "decorator called\n",
      "()\n",
      "Args None\n",
      "decorator called\n",
      "()\n",
      "Args None\n",
      "gnw called\n",
      "12\n",
      "Your Choice : 2\n",
      "decorator called\n",
      "()\n",
      "Args None\n",
      "dict_items([])\n",
      "Your Choice : 3\n",
      "decorator called\n",
      "('1200000', '3/12/2023', '1', '1', 'First salary')\n",
      "[<Parameter \"amount: int\">, <Parameter \"dateTime: datetime.datetime\">, <Parameter \"periodicity: bool = False\">, <Parameter \"duration: int = 0\">, <Parameter \"description: str = ''\">]\n",
      "anno=<class 'int'>\n",
      "sigParams[i]=<Parameter \"amount: int\">, anno=<class 'int'>, newArgs[i]=1200000, type(newArgs[i])=<class 'int'>\n",
      "anno=<class 'datetime.datetime'>\n"
     ]
    },
    {
     "ename": "TypeError",
     "evalue": "'str' object cannot be interpreted as an integer",
     "output_type": "error",
     "traceback": [
      "\u001b[1;31m---------------------------------------------------------------------------\u001b[0m",
      "\u001b[1;31mTypeError\u001b[0m                                 Traceback (most recent call last)",
      "Cell \u001b[1;32mIn[39], line 1\u001b[0m\n\u001b[1;32m----> 1\u001b[0m main()\n",
      "Cell \u001b[1;32mIn[37], line 24\u001b[0m, in \u001b[0;36mmain\u001b[1;34m()\u001b[0m\n\u001b[0;32m     22\u001b[0m \u001b[39mif\u001b[39;00m params:\n\u001b[0;32m     23\u001b[0m     arguments \u001b[39m=\u001b[39m [\u001b[39minput\u001b[39m(\u001b[39mf\u001b[39m\u001b[39m\"\u001b[39m\u001b[39mEnter \u001b[39m\u001b[39m{\u001b[39;00mparam\u001b[39m}\u001b[39;00m\u001b[39m\"\u001b[39m) \u001b[39mfor\u001b[39;00m param \u001b[39min\u001b[39;00m params]\n\u001b[1;32m---> 24\u001b[0m     result \u001b[39m=\u001b[39m functions[choice](\u001b[39m*\u001b[39;49marguments)\n\u001b[0;32m     25\u001b[0m \u001b[39melse\u001b[39;00m:\n\u001b[0;32m     26\u001b[0m     result \u001b[39m=\u001b[39m functions[choice]()\n",
      "Cell \u001b[1;32mIn[33], line 22\u001b[0m, in \u001b[0;36mdecorator.<locals>.wrapper\u001b[1;34m(*args)\u001b[0m\n\u001b[0;32m     19\u001b[0m     \u001b[39mif\u001b[39;00m anno \u001b[39m==\u001b[39m inspect\u001b[39m.\u001b[39m_empty:\n\u001b[0;32m     20\u001b[0m         \u001b[39m# print(\"cdn success\")\u001b[39;00m\n\u001b[0;32m     21\u001b[0m         \u001b[39mcontinue\u001b[39;00m\n\u001b[1;32m---> 22\u001b[0m     newArgs[i] \u001b[39m=\u001b[39m anno(newArgs[i])\n\u001b[0;32m     23\u001b[0m     \u001b[39mprint\u001b[39m(\u001b[39mf\u001b[39m\u001b[39m\"\u001b[39m\u001b[39m{\u001b[39;00msigParams[i]\u001b[39m=}\u001b[39;00m\u001b[39m, \u001b[39m\u001b[39m{\u001b[39;00manno\u001b[39m=}\u001b[39;00m\u001b[39m, \u001b[39m\u001b[39m{\u001b[39;00mnewArgs[i]\u001b[39m=}\u001b[39;00m\u001b[39m, \u001b[39m\u001b[39m{\u001b[39;00m\u001b[39mtype\u001b[39m(newArgs[i])\u001b[39m=}\u001b[39;00m\u001b[39m\"\u001b[39m)\n\u001b[0;32m     26\u001b[0m \u001b[39mreturn\u001b[39;00m func(\u001b[39m*\u001b[39m\u001b[39mtuple\u001b[39m(newArgs))\n",
      "\u001b[1;31mTypeError\u001b[0m: 'str' object cannot be interpreted as an integer"
     ]
    }
   ],
   "source": [
    "main()"
   ]
  },
  {
   "attachments": {},
   "cell_type": "markdown",
   "metadata": {},
   "source": [
    "# Rough"
   ]
  },
  {
   "cell_type": "code",
   "execution_count": null,
   "metadata": {},
   "outputs": [],
   "source": [
    "@decorator\n",
    "def function_1(p1, p2 : str) -> str:\n",
    "    print(\"f1 called\")\n",
    "    res = str(p1) + p2\n",
    "    return res\n",
    "\n",
    "\n",
    "\n",
    "def function_2(p11: dict, p12: list, p13: bool) -> tuple:\n",
    "    return (1,2,)\n",
    "\n",
    "function_2 = decorator(function_2)"
   ]
  },
  {
   "cell_type": "code",
   "execution_count": null,
   "metadata": {},
   "outputs": [
    {
     "name": "stdout",
     "output_type": "stream",
     "text": [
      "decorator called\n",
      "[<Parameter \"p1\">, <Parameter \"p2: str\">]\n",
      "anno=<class 'inspect._empty'>\n",
      "anno=<class 'str'>\n",
      "sigParams[i]=<Parameter \"p2: str\">, anno=<class 'str'>, newArgs[i]='34', type(newArgs[i])=<class 'str'>\n",
      "f1 called\n"
     ]
    },
    {
     "data": {
      "text/plain": [
       "'134'"
      ]
     },
     "execution_count": 179,
     "metadata": {},
     "output_type": "execute_result"
    }
   ],
   "source": [
    "function_1(\"1\",34)"
   ]
  },
  {
   "cell_type": "code",
   "execution_count": null,
   "metadata": {},
   "outputs": [
    {
     "name": "stdout",
     "output_type": "stream",
     "text": [
      "decorator called\n",
      "sigParams[i]=<Parameter \"p11: dict\">, anno=<class 'dict'>, newArgs[i]={1: 2, 3: 4}, type(newArgs[i])=<class 'dict'>\n",
      "sigParams[i]=<Parameter \"p12: list\">, anno=<class 'list'>, newArgs[i]=[3, 5, 'r'], type(newArgs[i])=<class 'list'>\n",
      "sigParams[i]=<Parameter \"p13: bool\">, anno=<class 'bool'>, newArgs[i]=False, type(newArgs[i])=<class 'bool'>\n"
     ]
    },
    {
     "data": {
      "text/plain": [
       "(1, 2)"
      ]
     },
     "execution_count": 155,
     "metadata": {},
     "output_type": "execute_result"
    }
   ],
   "source": [
    "function_2({1:2,3:4}, [3,5,\"r\"], False)"
   ]
  },
  {
   "cell_type": "code",
   "execution_count": null,
   "metadata": {},
   "outputs": [],
   "source": []
  }
 ],
 "metadata": {
  "colab": {
   "provenance": []
  },
  "kernelspec": {
   "display_name": "Python 3 (ipykernel)",
   "language": "python",
   "name": "python3"
  },
  "language_info": {
   "codemirror_mode": {
    "name": "ipython",
    "version": 3
   },
   "file_extension": ".py",
   "mimetype": "text/x-python",
   "name": "python",
   "nbconvert_exporter": "python",
   "pygments_lexer": "ipython3",
   "version": "3.12.0"
  }
 },
 "nbformat": 4,
 "nbformat_minor": 4
}
